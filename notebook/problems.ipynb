{
    "cells": [
        {
            "cell_type": "markdown",
            "id": "ac622319",
            "metadata": {},
            "source": [
                "# Descriptive statistics problems"
            ]
        },
        {
            "cell_type": "markdown",
            "id": "5e0ab0d5",
            "metadata": {},
            "source": [
                "### Exercise 1\n",
                "\n",
                "We will use NumPy to obtain information to describe statistically.\n",
                "\n",
                "- Generate an array of 100 elements following a normal distribution.\n",
                "- Generate an array of 100 elements following a chi-square distribution with 3 degrees of freedom.\n",
                "- Calculate the main metrics and statistical measures that best describe the two vectors."
            ]
        },
        {
            "cell_type": "code",
            "execution_count": 6,
            "id": "34720ab6",
            "metadata": {},
            "outputs": [
                {
                    "name": "stdout",
                    "output_type": "stream",
                    "text": [
                        "Normal                                          Chi\n",
                        "___________________________________________________\n",
                        "0.13940965940742378     Mean         3.0939531695604\n",
                        "0.1771896727101976     Median     2.3645645278767953\n",
                        "-1.1990595947263936     Mode       5.013065842366067\n",
                        "4.825281479442998      Range      13.943179385358194\n",
                        "1.0997918067145878  Standard Deviation  2.6437038180848536\n",
                        "1.209542018116537     Variance     6.989169877756432\n",
                        "-0.06823600798979867    Skew      1.6829627600730432\n",
                        "-0.6725785116859031   Kurtosis     3.251024697952854\n"
                    ]
                }
            ],
            "source": [
                "import numpy as np\n",
                "import statistics as stats\n",
                "from scipy.stats import skew, kurtosis\n",
                "normal = np.random.normal(size=100)\n",
                "chi = np.random.chisquare(3, size=100)\n",
                "def rangle(datum):\n",
                "    return max(datum)-min(datum)\n",
                "funcs = [[stats.mean, 'Mean'], [stats.median, 'Median'], [stats.mode, 'Mode'], [rangle, 'Range'], [stats.stdev, 'Standard Deviation'], [lambda x: stats.stdev(x)**2, 'Variance'], [skew, 'Skew'], [kurtosis, 'Kurtosis']]\n",
                "print('Normal                                          Chi')\n",
                "print('_'*51)\n",
                "for i in funcs:\n",
                "    a, b = i[0](normal), i[0](chi)\n",
                "    a_l, b_l, l_n = 24-len(str(a)), 24-len(str(b)), len(i[1])/2\n",
                "    if l_n % 1 == .5:\n",
                "        print(a, ' ' * (a_l - int(l_n + .5)), i[1], ' ' * (b_l - int(l_n - .5)), b)\n",
                "    else:\n",
                "        print(a, ' ' * (a_l - int(l_n)), i[1], ' ' * (b_l - int(l_n)), b)\n",
                "\n"
            ]
        },
        {
            "cell_type": "markdown",
            "id": "46c70c3d",
            "metadata": {},
            "source": [
                "### Exercise 2\n",
                "\n",
                "Write a Python program to calculate the standard deviation of the following data:\n",
                "\n",
                "```py\n",
                "data = [4, 2, 5, 8, 6]\n",
                "```"
            ]
        },
        {
            "cell_type": "code",
            "execution_count": 13,
            "id": "d590308e",
            "metadata": {},
            "outputs": [
                {
                    "name": "stdout",
                    "output_type": "stream",
                    "text": [
                        "2.0 2.23606797749979 2.23606797749979\n"
                    ]
                }
            ],
            "source": [
                "import math\n",
                "data = [4, 2, 5, 8, 6]\n",
                "std1 = np.std(data)\n",
                "std3 = stats.stdev(data)\n",
                "def std(datum, study=False):\n",
                "    if study:\n",
                "        l = len(datum) - 1\n",
                "        m = sum(datum) / (l + 1)\n",
                "    else:\n",
                "        l = len(datum)\n",
                "        m = sum(datum)/l\n",
                "    dev = []\n",
                "    for i in datum:\n",
                "        dev.append((i - m)**2)\n",
                "    return math.sqrt(sum(dev)/l)\n",
                "std2 = std(data, study=True)\n",
                "print(std1, std2, std3)"
            ]
        }
    ],
    "metadata": {
        "interpreter": {
            "hash": "9248718ffe6ce6938b217e69dbcc175ea21f4c6b28a317e96c05334edae734bb"
        },
        "kernelspec": {
            "display_name": "Python 3.9.12 ('ML-BOOTCAMP')",
            "language": "python",
            "name": "python3"
        },
        "language_info": {
            "codemirror_mode": {
                "name": "ipython",
                "version": 3
            },
            "file_extension": ".py",
            "mimetype": "text/x-python",
            "name": "python",
            "nbconvert_exporter": "python",
            "pygments_lexer": "ipython3",
            "version": "3.11.4"
        }
    },
    "nbformat": 4,
    "nbformat_minor": 5
}
