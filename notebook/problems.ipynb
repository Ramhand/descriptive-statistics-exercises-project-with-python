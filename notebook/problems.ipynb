{
    "cells": [
        {
            "cell_type": "markdown",
            "id": "ac622319",
            "metadata": {},
            "source": [
                "# Descriptive statistics problems"
            ]
        },
        {
            "cell_type": "markdown",
            "id": "5e0ab0d5",
            "metadata": {},
            "source": [
                "### Exercise 1\n",
                "\n",
                "We will use NumPy to obtain information to describe statistically.\n",
                "\n",
                "- Generate an array of 100 elements following a normal distribution.\n",
                "- Generate an array of 100 elements following a chi-square distribution with 3 degrees of freedom.\n",
                "- Calculate the main metrics and statistical measures that best describe the two vectors."
            ]
        },
        {
            "cell_type": "code",
            "execution_count": 16,
            "id": "34720ab6",
            "metadata": {},
            "outputs": [
                {
                    "name": "stdout",
                    "output_type": "stream",
                    "text": [
                        "Normal                                          Chi\n",
                        "___________________________________________________\n",
                        "-0.1510014587477786              0.7808724936899036\n",
                        "-0.06084492933387367             0.3826424412630849\n",
                        "-1.9533334533575253              0.5428150793183735\n",
                        "4.239405383435648                 5.385732898271256\n",
                        "0.9708325087947943               0.9616121170208703\n",
                        "0.9425157601327944                 0.92469786360136\n"
                    ]
                }
            ],
            "source": [
                "import numpy as np\n",
                "import statistics as stats\n",
                "normal = np.random.normal(size=100)\n",
                "chi = np.random.chisquare(3, size=100)\n",
                "def rangle(datum):\n",
                "    return max(datum)-min(datum)\n",
                "funcs = [stats.mean, stats.median, stats.mode, rangle, np.std, np.var]\n",
                "print('Normal                                          Chi')\n",
                "print('_'*51)\n",
                "for i in funcs:\n",
                "    a, b = i(normal), i(chi)\n",
                "    a_l, b_l = 24-len(str(a)), 24-len(str(b))\n",
                "    print(a, ' ' * a_l, ' ' * b_l, b)\n",
                "\n"
            ]
        },
        {
            "cell_type": "markdown",
            "id": "46c70c3d",
            "metadata": {},
            "source": [
                "### Exercise 2\n",
                "\n",
                "Write a Python program to calculate the standard deviation of the following data:\n",
                "\n",
                "```py\n",
                "data = [4, 2, 5, 8, 6]\n",
                "```"
            ]
        },
        {
            "cell_type": "code",
            "execution_count": 10,
            "id": "d590308e",
            "metadata": {},
            "outputs": [
                {
                    "name": "stdout",
                    "output_type": "stream",
                    "text": [
                        "2.0 2.0\n"
                    ]
                }
            ],
            "source": [
                "import math\n",
                "data = [4, 2, 5, 8, 6]\n",
                "std1 = np.std(data)\n",
                "def std(datum):\n",
                "    l = len(datum)\n",
                "    m = sum(datum)/l\n",
                "    dev = []\n",
                "    for i in datum:\n",
                "        dev.append(abs(m - i)**2)\n",
                "    return math.sqrt(sum(dev)/l)\n",
                "std2 = std(data)\n",
                "print(std1, std2)"
            ]
        }
    ],
    "metadata": {
        "interpreter": {
            "hash": "9248718ffe6ce6938b217e69dbcc175ea21f4c6b28a317e96c05334edae734bb"
        },
        "kernelspec": {
            "display_name": "Python 3.9.12 ('ML-BOOTCAMP')",
            "language": "python",
            "name": "python3"
        },
        "language_info": {
            "codemirror_mode": {
                "name": "ipython",
                "version": 3
            },
            "file_extension": ".py",
            "mimetype": "text/x-python",
            "name": "python",
            "nbconvert_exporter": "python",
            "pygments_lexer": "ipython3",
            "version": "3.11.4"
        }
    },
    "nbformat": 4,
    "nbformat_minor": 5
}
